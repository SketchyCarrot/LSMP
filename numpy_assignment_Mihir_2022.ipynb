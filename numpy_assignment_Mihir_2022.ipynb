{
 "cells": [
  {
   "cell_type": "markdown",
   "metadata": {},
   "source": [
    "<p><h1>Numpy Assignment</h1></p>\n",
    "<p><h2>Monthly Weather Analysis</h2></p>"
   ]
  },
  {
   "cell_type": "markdown",
   "metadata": {},
   "source": [
    "<h3>Problem 1</h3>\n",
    "Create and print a single numpy array and initialize it with random numbers  representing the temperature of a city for the month of June, July and august. The generated temps must be in the range of 28 to 50 degree celsius.\n"
   ]
  },
  {
   "cell_type": "code",
   "execution_count": 1,
   "metadata": {},
   "outputs": [],
   "source": [
    "import numpy as np"
   ]
  },
  {
   "cell_type": "code",
   "execution_count": 2,
   "metadata": {},
   "outputs": [
    {
     "data": {
      "text/plain": [
       "array([39, 47, 38, 37, 47, 30, 47, 40, 50, 44, 43, 44, 36, 44, 45, 47, 49,\n",
       "       43, 37, 49, 38, 41, 45, 48, 39, 33, 31, 49, 50, 32, 43, 32, 32, 50,\n",
       "       47, 31, 28, 34, 38, 50, 45, 44, 42, 32, 45, 32, 38, 42, 49, 47, 43,\n",
       "       31, 45, 32, 29, 33, 43, 46, 50, 45, 37, 31, 45, 35, 36, 50, 32, 35,\n",
       "       41, 45, 38, 34, 41, 33, 38, 38, 48, 38, 31, 47, 33, 30, 29, 42, 47,\n",
       "       39, 40, 30, 33, 47, 40, 30])"
      ]
     },
     "execution_count": 2,
     "metadata": {},
     "output_type": "execute_result"
    }
   ],
   "source": [
    "# Generating random integers between 28 and 50 for each day of each month. Total 92 entries.\n",
    "temp_june = np.random.randint(28, 51, 30)\n",
    "temp_july = np.random.randint(28, 51, 31)\n",
    "temp_august = np.random.randint(28, 51, 31)\n",
    "temp = np.concatenate((temp_june, temp_july, temp_august), axis=0)     # Making a singular array\n",
    "temp"
   ]
  },
  {
   "cell_type": "markdown",
   "metadata": {},
   "source": [
    "<h3>Problem 2</h3>\n",
    "Calculate and print the avg, max and min temp of that city for entire time frame"
   ]
  },
  {
   "cell_type": "code",
   "execution_count": 3,
   "metadata": {},
   "outputs": [
    {
     "name": "stdout",
     "output_type": "stream",
     "text": [
      "avg = 39.92391304347826\n",
      "max = 50\n",
      "min = 28\n"
     ]
    }
   ],
   "source": [
    "print(f\"avg = {temp.mean()}\")\n",
    "print(f\"max = {temp.max()}\")\n",
    "print(f\"min = {temp.min()}\")"
   ]
  },
  {
   "cell_type": "markdown",
   "metadata": {},
   "source": [
    "<h3>Problem 3</h3>\n",
    "Calculate and print the avg, max and min temp of that city for each month"
   ]
  },
  {
   "cell_type": "code",
   "execution_count": 4,
   "metadata": {},
   "outputs": [
    {
     "name": "stdout",
     "output_type": "stream",
     "text": [
      "avg june = 42.06666666666667\n",
      "avg july = 39.83870967741935\n",
      "avg august = 37.935483870967744\n"
     ]
    }
   ],
   "source": [
    "# Slicing the array monthwise.\n",
    "avg_jun = temp[0:30].mean()\n",
    "avg_jul = temp[30:61].mean()\n",
    "avg_aug = temp[61:92].mean()\n",
    "print(f\"avg june = {avg_jun}\")\n",
    "print(f\"avg july = {avg_jul}\")\n",
    "print(f\"avg august = {avg_aug}\")"
   ]
  },
  {
   "cell_type": "markdown",
   "metadata": {},
   "source": [
    "<h3>Problem 4</h3>\n",
    "Calculate and print the amount with which the temp is rising or falling each day as compared to the previous day for all three months data."
   ]
  },
  {
   "cell_type": "code",
   "execution_count": 23,
   "metadata": {},
   "outputs": [
    {
     "data": {
      "text/plain": [
       "array([  8,  -9,  -1,  10, -17,  17,  -7,  10,  -6,  -1,   1,  -8,   8,\n",
       "         1,   2,   2,  -6,  -6,  12, -11,   3,   4,   3,  -9,  -6,  -2,\n",
       "        18,   1, -18,  11, -11,   0,  18,  -3, -16,  -3,   6,   4,  12,\n",
       "        -5,  -1,  -2, -10,  13, -13,   6,   4,   7,  -2,  -4, -12,  14,\n",
       "       -13,  -3,   4,  10,   3,   4,  -5,  -8,  -6,  14, -10,   1,  14,\n",
       "       -18,   3,   6,   4,  -7,  -4,   7,  -8,   5,   0,  10, -10,  -7,\n",
       "        16, -14,  -3,  -1,  13,   5,  -8,   1, -10,   3,  14,  -7, -10])"
      ]
     },
     "execution_count": 23,
     "metadata": {},
     "output_type": "execute_result"
    }
   ],
   "source": [
    "# Storing the difference in temperature of the next day in an array. Total 91 entries.\n",
    "difference = []\n",
    "\n",
    "for i in range(len(temp)-1):\n",
    "        diff = temp[i+1] - temp[i]\n",
    "        difference.append(diff)\n",
    "\n",
    "temp_difference = np.array(difference)\n",
    "temp_difference"
   ]
  },
  {
   "cell_type": "markdown",
   "metadata": {},
   "source": [
    "<h3>Problem 5</h3>\n",
    "Calculate and print avg temp of each week\n",
    "\n"
   ]
  },
  {
   "cell_type": "code",
   "execution_count": 24,
   "metadata": {},
   "outputs": [
    {
     "name": "stdout",
     "output_type": "stream",
     "text": [
      "avg week of 1 = 40.714285714285715\n",
      "avg week of 2 = 43.0\n",
      "avg week of 3 = 44.0\n",
      "avg week of 4 = 40.857142857142854\n",
      "avg week of 5 = 40.857142857142854\n",
      "avg week of 6 = 38.57142857142857\n",
      "avg week of 7 = 40.0\n",
      "avg week of 8 = 37.142857142857146\n",
      "avg week of 9 = 42.42857142857143\n",
      "avg week of 10 = 39.142857142857146\n",
      "avg week of 11 = 38.57142857142857\n",
      "avg week of 12 = 35.714285714285715\n",
      "avg week of 13 = 39.42857142857143\n",
      "avg week of 14 = 30.0\n"
     ]
    }
   ],
   "source": [
    "# Slicing the array for every 7 days. Last week has only 1 day.\n",
    "number_of_weeks = int(np.ceil(len(temp)/7))\n",
    "\n",
    "for i in range(number_of_weeks):\n",
    "        week_avg = temp[i*7:(i*7)+7].mean()       #Using slicing to seperate out weeks\n",
    "        print(f\"avg week of {i+1} = {week_avg}\")"
   ]
  },
  {
   "cell_type": "markdown",
   "metadata": {},
   "source": [
    "<h3>Problem 6</h3>\n",
    "Create a function that will take an input number from 1 to 7 as day of a week (1 for Sunday 7 for Sat) and print avg, max and min temp of the city on that day of the week over the complete 3 months.\n"
   ]
  },
  {
   "cell_type": "code",
   "execution_count": 25,
   "metadata": {},
   "outputs": [
    {
     "name": "stdout",
     "output_type": "stream",
     "text": [
      "avg of day 5 = 37.38461538461539\n",
      "max of day 5 = 50\n",
      "min of day 5 = 30\n"
     ]
    }
   ],
   "source": [
    "# Assuming that 1st of June is a Sunday.\n",
    "# I couldn't think of a shorter way to do this.\n",
    "def day_week():\n",
    "        user_day = int(input(\"Day? (1 to 7 : Sunday to Saturday)\"))\n",
    "        if user_day>7 or user_day<1:\n",
    "                print(\"Invalid input.\")\n",
    "        else:\n",
    "                index_day = user_day - 1\n",
    "                day_temp = []\n",
    "\n",
    "                if index_day == 0:     # Because we have 14 Sundays, and the rest of the days are only 13\n",
    "                        for i in range(number_of_weeks):\n",
    "                                day_temp.append(temp[i*7:(i*7)+7][index_day])     # Slicing the array for each week\n",
    "                else:\n",
    "                        for i in range(number_of_weeks-1):\n",
    "                                day_temp.append(temp[i*7:(i*7)+7][index_day])\n",
    "\n",
    "                print(f\"avg of day {user_day} = {sum(day_temp)/len(day_temp)}\")\n",
    "                print(f\"max of day {user_day} = {max(day_temp)}\")\n",
    "                print(f\"min of day {user_day} = {min(day_temp)}\")\n",
    "\n",
    "        # ALTERNATE METHOD without slicing---\n",
    "\n",
    "        # user_day = int(input(\"Day? (1 to 7 : Sunday to Saturday)\"))\n",
    "        # if user_day>7 or user_day<1:\n",
    "        #         print(\"Invalid input.\")\n",
    "        # else:\n",
    "        #         day = user_day\n",
    "        #         day_temp = []\n",
    "\n",
    "        #         if day == 1:\n",
    "        #                 for i in range(number_of_weeks):\n",
    "        #                         day_temp.append(temp[day-1])\n",
    "        #                         day += 7\n",
    "        #         else:\n",
    "        #                 for i in range(number_of_weeks-1):\n",
    "        #                         day_temp.append(temp[day-1])\n",
    "        #                         day += 7\n",
    "\n",
    "        #         print(f\"avg of day {user_day} = {sum(day_temp)/len(day_temp)}\")\n",
    "        #         print(f\"max of day {user_day} = {max(day_temp)}\")\n",
    "        #         print(f\"min of day {user_day} = {min(day_temp)}\")\n",
    "day_week()"
   ]
  },
  {
   "cell_type": "markdown",
   "metadata": {},
   "source": [
    "<h3>Problem 7</h3>\n",
    "Convert and print entire array from celsius to fahrenheit temp\n"
   ]
  },
  {
   "cell_type": "code",
   "execution_count": 26,
   "metadata": {},
   "outputs": [
    {
     "data": {
      "text/plain": [
       "array([102.2, 116.6, 100.4,  98.6, 116.6,  86. , 116.6, 104. , 122. ,\n",
       "       111.2, 109.4, 111.2,  96.8, 111.2, 113. , 116.6, 120.2, 109.4,\n",
       "        98.6, 120.2, 100.4, 105.8, 113. , 118.4, 102.2,  91.4,  87.8,\n",
       "       120.2, 122. ,  89.6, 109.4,  89.6,  89.6, 122. , 116.6,  87.8,\n",
       "        82.4,  93.2, 100.4, 122. , 113. , 111.2, 107.6,  89.6, 113. ,\n",
       "        89.6, 100.4, 107.6, 120.2, 116.6, 109.4,  87.8, 113. ,  89.6,\n",
       "        84.2,  91.4, 109.4, 114.8, 122. , 113. ,  98.6,  87.8, 113. ,\n",
       "        95. ,  96.8, 122. ,  89.6,  95. , 105.8, 113. , 100.4,  93.2,\n",
       "       105.8,  91.4, 100.4, 100.4, 118.4, 100.4,  87.8, 116.6,  91.4,\n",
       "        86. ,  84.2, 107.6, 116.6, 102.2, 104. ,  86. ,  91.4, 116.6,\n",
       "       104. ,  86. ])"
      ]
     },
     "execution_count": 26,
     "metadata": {},
     "output_type": "execute_result"
    }
   ],
   "source": [
    "# Numpy mathematical operations\n",
    "temp_fahrenheit = (temp * 9)/5 + 32\n",
    "temp_fahrenheit"
   ]
  }
 ],
 "metadata": {
  "kernelspec": {
   "display_name": "Python 3",
   "language": "python",
   "name": "python3"
  },
  "language_info": {
   "codemirror_mode": {
    "name": "ipython",
    "version": 3
   },
   "file_extension": ".py",
   "mimetype": "text/x-python",
   "name": "python",
   "nbconvert_exporter": "python",
   "pygments_lexer": "ipython3",
   "version": "3.12.2"
  }
 },
 "nbformat": 4,
 "nbformat_minor": 2
}
